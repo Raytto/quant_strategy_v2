{
 "cells": [
  {
   "cell_type": "code",
   "execution_count": 3,
   "id": "fb1cb8a2",
   "metadata": {},
   "outputs": [
    {
     "data": {
      "text/plain": [
       "'f1abf7d196cee5909bff199ca86c03478f0ba393e0902962cb2922a7'"
      ]
     },
     "execution_count": 3,
     "metadata": {},
     "output_type": "execute_result"
    }
   ],
   "source": [
    "from data_fetcher.settings import settings\n",
    "\n",
    "token = settings.tushare_api_token.get_secret_value()\n",
    "token"
   ]
  }
 ],
 "metadata": {
  "kernelspec": {
   "display_name": "qs",
   "language": "python",
   "name": "python3"
  },
  "language_info": {
   "codemirror_mode": {
    "name": "ipython",
    "version": 3
   },
   "file_extension": ".py",
   "mimetype": "text/x-python",
   "name": "python",
   "nbconvert_exporter": "python",
   "pygments_lexer": "ipython3",
   "version": "3.11.13"
  }
 },
 "nbformat": 4,
 "nbformat_minor": 5
}
