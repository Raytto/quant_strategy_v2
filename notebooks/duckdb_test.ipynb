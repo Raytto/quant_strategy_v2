{
 "cells": [
  {
   "cell_type": "code",
   "execution_count": 3,
   "id": "fb1cb8a2",
   "metadata": {},
   "outputs": [
    {
     "name": "stdout",
     "output_type": "stream",
     "text": [
      "  symbol       date  close\n",
      "0   AAPL 2024-01-02  185.1\n",
      "1   AAPL 2024-01-03  187.3\n",
      "2   AAPL 2024-01-04  189.0\n",
      "  symbol       date  close  volume\n",
      "0   AAPL 2024-01-03  187.3  120000\n",
      "1   MSFT 2024-01-03  333.8  110000\n",
      "2   AAPL 2024-01-04  189.0  130000\n"
     ]
    }
   ],
   "source": [
    "import duckdb\n",
    "import pandas as pd\n",
    "\n",
    "# 1. 准备一些示例数据（实际项目里可以来自 CSV/接口等）\n",
    "prices = pd.DataFrame(\n",
    "    {\n",
    "        \"symbol\": [\"AAPL\", \"AAPL\", \"MSFT\", \"MSFT\"],\n",
    "        \"date\": pd.to_datetime(\n",
    "            [\"2024-01-02\", \"2024-01-03\", \"2024-01-02\", \"2024-01-03\"]\n",
    "        ),\n",
    "        \"close\": [185.1, 187.3, 330.2, 333.8],\n",
    "        \"volume\": [100_000, 120_000, 90_000, 110_000],\n",
    "    }\n",
    ")\n",
    "\n",
    "# 2. 连接到 DuckDB 数据库文件（不存在会自动创建）\n",
    "con = duckdb.connect(r\"data/data.duckdb\")\n",
    "\n",
    "# 3. 将 pandas DataFrame 写入数据库（存）\n",
    "con.register(\"prices_df\", prices)  # 把 DataFrame 注册成一个临时视图\n",
    "con.execute(\"CREATE OR REPLACE TABLE prices AS SELECT * FROM prices_df\")\n",
    "\n",
    "# 4. 追加新数据（可选）\n",
    "con.begin()\n",
    "new_rows = pd.DataFrame(\n",
    "    {\n",
    "        \"symbol\": [\"AAPL\"],\n",
    "        \"date\": pd.to_datetime([\"2024-01-04\"]),\n",
    "        \"close\": [189.0],\n",
    "        \"volume\": [130_000],\n",
    "    }\n",
    ")\n",
    "con.register(\"new_rows_df\", new_rows)\n",
    "con.execute(\"INSERT INTO prices SELECT * FROM new_rows_df\")\n",
    "con.commit()\n",
    "\n",
    "# 5. 查询（取）\n",
    "result_df = con.execute(\n",
    "    \"\"\"\n",
    "    SELECT symbol, date, close\n",
    "    FROM prices\n",
    "    WHERE symbol = 'AAPL'\n",
    "    ORDER BY date\n",
    "\"\"\"\n",
    ").df()\n",
    "print(result_df)\n",
    "\n",
    "# 6. 导出为 Parquet（可选：便于与其他工具共享）\n",
    "con.execute(\"COPY (SELECT * FROM prices) TO 'data\\prices.parquet' (FORMAT PARQUET)\")\n",
    "\n",
    "# 7. 从 Parquet 直接读，不用先导入表（DuckDB 支持直接 SELECT 文件）\n",
    "parquet_df = con.execute(\n",
    "    \"SELECT * FROM 'data\\prices.parquet' WHERE volume > 100000\"\n",
    ").df()\n",
    "print(parquet_df)\n",
    "\n",
    "# 8.定期清理\n",
    "con.execute(\"VACUUM\")\n",
    "con.execute(\"ANALYZE\")\n",
    "# 9. 关闭连接\n",
    "con.close()"
   ]
  }
 ],
 "metadata": {
  "kernelspec": {
   "display_name": "qs",
   "language": "python",
   "name": "python3"
  },
  "language_info": {
   "codemirror_mode": {
    "name": "ipython",
    "version": 3
   },
   "file_extension": ".py",
   "mimetype": "text/x-python",
   "name": "python",
   "nbconvert_exporter": "python",
   "pygments_lexer": "ipython3",
   "version": "3.11.13"
  }
 },
 "nbformat": 4,
 "nbformat_minor": 5
}
